{
  "nbformat": 4,
  "nbformat_minor": 0,
  "metadata": {
    "colab": {
      "name": "MD1 Simulation.ipynb",
      "provenance": [],
      "collapsed_sections": []
    },
    "kernelspec": {
      "name": "python3",
      "display_name": "Python 3"
    },
    "language_info": {
      "name": "python"
    }
  },
  "cells": [
    {
      "cell_type": "markdown",
      "metadata": {
        "id": "GqA6U4Xkob8c"
      },
      "source": [
        "l dan m parameters that giving traffic/utility value of $\\rho$ = 0,8. In this terms, i assume that value of $\\lambda$ = 0.8 dan $\\mu$ = 1.\\\n",
        "l = lambda\\\n",
        "m = mu\\\n",
        "p = rho\n",
        "\n",
        "IAT = InterArrival Time\\\n",
        "JQAT = Join Queue At Time\\\n",
        "ST = Service Time\\\n",
        "GSAT = Get Service At Time\\\n",
        "LSAT = Leave Server At Time\\\n",
        "TSIS = Time Spent in System\\\n",
        "TSIQ = Time Spent in Queue\n"
      ]
    },
    {
      "cell_type": "code",
      "metadata": {
        "id": "nC2oA3lB0bHC"
      },
      "source": [
        "import numpy as np\n",
        "import pandas as pd\n",
        "import matplotlib.pyplot as plt\n",
        "import seaborn as sns\n",
        "import random\n"
      ],
      "execution_count": 1,
      "outputs": []
    },
    {
      "cell_type": "code",
      "metadata": {
        "id": "WqsH4grjEy2f"
      },
      "source": [
        "N = 9999\n",
        "l = 8\n",
        "m = 10\n",
        "p = l/m"
      ],
      "execution_count": 2,
      "outputs": []
    },
    {
      "cell_type": "code",
      "metadata": {
        "id": "lEPpNV23aCHo"
      },
      "source": [
        "En_theory = l*((1/m)+(p/(2*m*(1-p))))"
      ],
      "execution_count": 3,
      "outputs": []
    },
    {
      "cell_type": "code",
      "metadata": {
        "colab": {
          "base_uri": "https://localhost:8080/"
        },
        "id": "njrwJQ7HbUs4",
        "outputId": "db1500c0-2537-4e82-8c2c-0e23cfc41240"
      },
      "source": [
        "En_theory"
      ],
      "execution_count": 4,
      "outputs": [
        {
          "output_type": "execute_result",
          "data": {
            "text/plain": [
              "2.4000000000000004"
            ]
          },
          "metadata": {
            "tags": []
          },
          "execution_count": 4
        }
      ]
    },
    {
      "cell_type": "code",
      "metadata": {
        "id": "gfpbwnh_oHir"
      },
      "source": [
        "def generate_random(x):\n",
        "  return -(1/x)*np.log(np.random.rand())"
      ],
      "execution_count": 5,
      "outputs": []
    },
    {
      "cell_type": "code",
      "metadata": {
        "id": "ryKbVbJroHgN"
      },
      "source": [
        "IAT = [0]\n",
        "ST = [0]\n",
        "for i in range(N):\n",
        "  a = generate_random(l)\n",
        "  b = 1/m\n",
        "  IAT.append(a)\n",
        "  ST.append(b)"
      ],
      "execution_count": 6,
      "outputs": []
    },
    {
      "cell_type": "code",
      "metadata": {
        "id": "HwHQq8qVoHd9"
      },
      "source": [
        "JQAT = [0]\n",
        "for i in range(1, N+1):\n",
        "  a = IAT[i] + JQAT[i-1]\n",
        "  JQAT.append(a)"
      ],
      "execution_count": 7,
      "outputs": []
    },
    {
      "cell_type": "code",
      "metadata": {
        "id": "-uvd80_uoHW_"
      },
      "source": [
        "LSAT = [0]\n",
        "GSAT = [0]\n",
        "if LSAT[0] < JQAT[1]:\n",
        "  GSAT.append(JQAT[1])\n",
        "else:\n",
        "  GSAT.append(LSAT[0])\n",
        "for i in range(1, N+1):\n",
        "  if i == 1:\n",
        "    a = ST[i] + GSAT[i]\n",
        "    LSAT.append(a)\n",
        "  else:\n",
        "    if LSAT[i-1] < JQAT[i]:\n",
        "      a = JQAT[i]\n",
        "    else:\n",
        "      a = LSAT[i-1]\n",
        "    b = a + ST[i]\n",
        "    GSAT.append(a)\n",
        "    LSAT.append(b)"
      ],
      "execution_count": 8,
      "outputs": []
    },
    {
      "cell_type": "code",
      "metadata": {
        "id": "93jKOvvPoHUm"
      },
      "source": [
        "TSIS = [0]\n",
        "TSIQ = [0]\n",
        "for i in range(1, N+1):\n",
        "  TSIS.append(LSAT[i] - JQAT[i])\n",
        "  TSIQ.append(GSAT[i] - JQAT[i])\n"
      ],
      "execution_count": 9,
      "outputs": []
    },
    {
      "cell_type": "code",
      "metadata": {
        "id": "SwbVADvhGdxX"
      },
      "source": [
        "I_ave = [0]\n",
        "TS_ave = [0]\n",
        "for i in range(1, N+1):\n",
        "  IAT_nump = np.array(IAT[1:i+1])\n",
        "  TSIS_nump = np.array(TSIS[1:i+1])\n",
        "  a = np.average(IAT_nump)\n",
        "  b = np.average(TSIS_nump)\n",
        "  I_ave.append(a)\n",
        "  TS_ave.append(b)"
      ],
      "execution_count": 10,
      "outputs": []
    },
    {
      "cell_type": "code",
      "metadata": {
        "id": "7ZAQ34keOUsM"
      },
      "source": [
        "En = []\n",
        "for i in TS_ave:\n",
        "  a = i * l\n",
        "  En.append(a)"
      ],
      "execution_count": 11,
      "outputs": []
    },
    {
      "cell_type": "code",
      "metadata": {
        "id": "OMiobYiEUPFq"
      },
      "source": [
        "data = pd.DataFrame({'IAT' : IAT,\n",
        "                     'JQAT': JQAT,\n",
        "                     'ST':ST,\n",
        "                     'GSAT': GSAT,\n",
        "                     'LSAT':LSAT,\n",
        "                     'TSIS' : TSIS,\n",
        "                     'TSIQ' : TSIQ,\n",
        "                     'E[N]' : En,\n",
        "                     'IAT_average':I_ave,\n",
        "                     'TSIS_average':TS_ave},\n",
        "                    columns = ['IAT', 'JQAT', 'ST','GSAT','LSAT','TSIS','TSIQ', 'E[N]','IAT_average','TSIS_average'])"
      ],
      "execution_count": 12,
      "outputs": []
    },
    {
      "cell_type": "code",
      "metadata": {
        "colab": {
          "base_uri": "https://localhost:8080/"
        },
        "id": "T0uuScwngeso",
        "outputId": "27db7cf6-2926-40ae-ed05-1d86518de749"
      },
      "source": [
        "data['E[N]'].tail()"
      ],
      "execution_count": 13,
      "outputs": [
        {
          "output_type": "execute_result",
          "data": {
            "text/plain": [
              "9995    2.388321\n",
              "9996    2.388449\n",
              "9997    2.388410\n",
              "9998    2.388282\n",
              "9999    2.388123\n",
              "Name: E[N], dtype: float64"
            ]
          },
          "metadata": {
            "tags": []
          },
          "execution_count": 13
        }
      ]
    },
    {
      "cell_type": "code",
      "metadata": {
        "colab": {
          "base_uri": "https://localhost:8080/",
          "height": 482
        },
        "id": "WQca-OydUPBK",
        "outputId": "2e73ad1b-a5e6-4344-87ff-7eb270c08343"
      },
      "source": [
        "plt.figure(figsize=[10,6])\n",
        "sns.lineplot(data.index, data['E[N]'], legend='brief')\n",
        "line = plt.axhline(En_theory,\n",
        "                   color='r',\n",
        "                   label = 'E[N] teoritis')\n",
        "plt.title(\"Average Users M/D/1\", fontsize=20)\n",
        "plt.legend(handles=[line])\n",
        "plt.xlabel('Events Number', fontsize=12)\n",
        "plt.ylabel('E[N]',fontsize=12)"
      ],
      "execution_count": 14,
      "outputs": [
        {
          "output_type": "stream",
          "text": [
            "/usr/local/lib/python3.7/dist-packages/seaborn/_decorators.py:43: FutureWarning: Pass the following variables as keyword args: x, y. From version 0.12, the only valid positional argument will be `data`, and passing other arguments without an explicit keyword will result in an error or misinterpretation.\n",
            "  FutureWarning\n"
          ],
          "name": "stderr"
        },
        {
          "output_type": "execute_result",
          "data": {
            "text/plain": [
              "Text(0, 0.5, 'E[N]')"
            ]
          },
          "metadata": {
            "tags": []
          },
          "execution_count": 14
        },
        {
          "output_type": "display_data",
          "data": {
            "image/png": "[encoded data removed]",
            "text/plain": [
              "<Figure size 720x432 with 1 Axes>"
            ]
          },
          "metadata": {
            "tags": [],
            "needs_background": "light"
          }
        }
      ]
    },
    {
      "cell_type": "code",
      "metadata": {
        "id": "a8_5qcQviSNq"
      },
      "source": [
        ""
      ],
      "execution_count": null,
      "outputs": []
    }
  ]
}